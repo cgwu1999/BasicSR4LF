{
 "cells": [
  {
   "cell_type": "code",
   "execution_count": null,
   "metadata": {},
   "outputs": [],
   "source": [
    "from glob import glob\n",
    "import os\n",
    "import h5py\n",
    "import numpy as np\n",
    "for dataset_path in glob(\"data_for_test/SR_9x9_4x/*\"):\n",
    "    dataset=os.path.basename(dataset_path)\n",
    "    for data_path in glob(os.path.join(dataset_path,\"*\")):\n",
    "        data=data_path\n",
    "        os.makedirs(f'{data[:-3].replace(\"SR_9x9_4x\",\"SR_9x9_4x_npy\")}/',exist_ok=True)\n",
    "        with h5py.File(data, \"r\") as hf:\n",
    "            Lr_SAI_y = np.array(hf.get(\"Lr_SAI_y\"))\n",
    "            Hr_SAI_y = np.array(hf.get(\"Hr_SAI_y\"))\n",
    "            Hr_SAI_cbcr = np.array(hf.get(\"Sr_SAI_cbcr\"))\n",
    "        np.save(f'{data[:-3].replace(\"SR_9x9_4x\",\"SR_9x9_4x_npy\")}/lr_y.npy', Lr_SAI_y)\n",
    "        np.save(f'{data[:-3].replace(\"SR_9x9_4x\",\"SR_9x9_4x_npy\")}/hr_y.npy', Hr_SAI_y)\n",
    "        np.save(\n",
    "            f'{data[:-3].replace(\"SR_9x9_4x\",\"SR_9x9_4x_npy\")}/hr_cbcr.npy', Hr_SAI_cbcr\n",
    "        )"
   ]
  }
 ],
 "metadata": {
  "language_info": {
   "name": "python"
  }
 },
 "nbformat": 4,
 "nbformat_minor": 2
}
